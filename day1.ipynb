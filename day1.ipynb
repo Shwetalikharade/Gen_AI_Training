{
 "cells": [
  {
   "cell_type": "code",
   "execution_count": 1,
   "id": "faefa603-7a89-4287-b6a3-f17f25d22f75",
   "metadata": {},
   "outputs": [],
   "source": [
    "import keyword"
   ]
  },
  {
   "cell_type": "code",
   "execution_count": 2,
   "id": "9c7172d5-44de-4f9b-91d3-971d282269c0",
   "metadata": {},
   "outputs": [
    {
     "name": "stdout",
     "output_type": "stream",
     "text": [
      "['False', 'None', 'True', 'and', 'as', 'assert', 'async', 'await', 'break', 'class', 'continue', 'def', 'del', 'elif', 'else', 'except', 'finally', 'for', 'from', 'global', 'if', 'import', 'in', 'is', 'lambda', 'nonlocal', 'not', 'or', 'pass', 'raise', 'return', 'try', 'while', 'with', 'yield']\n"
     ]
    }
   ],
   "source": [
    "print(keyword.kwlist)"
   ]
  },
  {
   "cell_type": "code",
   "execution_count": 3,
   "id": "17ada9dd-bef7-4c0d-ad07-f37ce643aeb5",
   "metadata": {},
   "outputs": [
    {
     "name": "stdout",
     "output_type": "stream",
     "text": [
      "35\n"
     ]
    }
   ],
   "source": [
    "print(len(keyword.kwlist))"
   ]
  },
  {
   "cell_type": "code",
   "execution_count": 8,
   "id": "1086cf19-a86b-47e0-8d8f-327a90e480ac",
   "metadata": {},
   "outputs": [],
   "source": [
    "_ = 45"
   ]
  },
  {
   "cell_type": "code",
   "execution_count": 9,
   "id": "fd165c1a-1a94-40b2-9427-c3c7a3cdb46b",
   "metadata": {},
   "outputs": [
    {
     "data": {
      "text/plain": [
       "45"
      ]
     },
     "execution_count": 9,
     "metadata": {},
     "output_type": "execute_result"
    }
   ],
   "source": [
    "_"
   ]
  },
  {
   "cell_type": "code",
   "execution_count": 10,
   "id": "978920b1-4b38-4fa8-8629-1aeec9ce11f4",
   "metadata": {},
   "outputs": [],
   "source": [
    "#void space is not use"
   ]
  },
  {
   "cell_type": "code",
   "execution_count": 11,
   "id": "ffdf6bba-ed53-4184-9c7c-d70d7f257fd3",
   "metadata": {},
   "outputs": [],
   "source": [
    "name_1st=\"krish\""
   ]
  },
  {
   "cell_type": "code",
   "execution_count": 12,
   "id": "896462d6-70b2-478a-b284-9e5c5d484bf9",
   "metadata": {},
   "outputs": [
    {
     "data": {
      "text/plain": [
       "'krish'"
      ]
     },
     "execution_count": 12,
     "metadata": {},
     "output_type": "execute_result"
    }
   ],
   "source": [
    "name_1st"
   ]
  },
  {
   "cell_type": "code",
   "execution_count": 13,
   "id": "549abd49-0f17-4688-a505-025e117917d1",
   "metadata": {},
   "outputs": [
    {
     "ename": "SyntaxError",
     "evalue": "invalid decimal literal (3463416649.py, line 1)",
     "output_type": "error",
     "traceback": [
      "\u001b[1;36m  Cell \u001b[1;32mIn[13], line 1\u001b[1;36m\u001b[0m\n\u001b[1;33m    1st_name=\"krish\"\u001b[0m\n\u001b[1;37m    ^\u001b[0m\n\u001b[1;31mSyntaxError\u001b[0m\u001b[1;31m:\u001b[0m invalid decimal literal\n"
     ]
    }
   ],
   "source": [
    "1st_name=\"krish\"\n",
    "1st_name"
   ]
  },
  {
   "cell_type": "code",
   "execution_count": 14,
   "id": "45391949-4d32-4059-b969-96159527c6fa",
   "metadata": {},
   "outputs": [
    {
     "name": "stdin",
     "output_type": "stream",
     "text": [
      " hii shwetali\n"
     ]
    }
   ],
   "source": [
    "#user input\n",
    "name = input()"
   ]
  },
  {
   "cell_type": "code",
   "execution_count": 17,
   "id": "f81862d2-3fc3-44e8-bdb2-c1ff3b1b2090",
   "metadata": {},
   "outputs": [
    {
     "name": "stdin",
     "output_type": "stream",
     "text": [
      " 3\n",
      " 4\n"
     ]
    },
    {
     "name": "stdout",
     "output_type": "stream",
     "text": [
      "34\n"
     ]
    }
   ],
   "source": [
    "# this will do concatation for add we have assign datatype\n",
    "number1=input()\n",
    "number2=input()\n",
    "add=number1+number2\n",
    "print(add)"
   ]
  },
  {
   "cell_type": "code",
   "execution_count": 19,
   "id": "2ebda248-7343-4410-994c-727450149523",
   "metadata": {},
   "outputs": [
    {
     "name": "stdin",
     "output_type": "stream",
     "text": [
      " 4\n",
      " 5\n"
     ]
    },
    {
     "name": "stdout",
     "output_type": "stream",
     "text": [
      "9\n"
     ]
    }
   ],
   "source": [
    "number1= int(input())\n",
    "number2=int(input())\n",
    "add=number1+number2\n",
    "print(add)"
   ]
  },
  {
   "cell_type": "code",
   "execution_count": 20,
   "id": "9b8cea85-48c9-4d6e-8ab0-8deecedc0ab3",
   "metadata": {},
   "outputs": [
    {
     "name": "stdout",
     "output_type": "stream",
     "text": [
      "10.5\n"
     ]
    }
   ],
   "source": [
    "#typecasting 1)implicit by deafault interpreter does 2)explicit we have to tell to the interpreter\n",
    "#implicit\n",
    "\n",
    "print(5+5.5)\n"
   ]
  },
  {
   "cell_type": "code",
   "execution_count": 1,
   "id": "7bd16558-a88e-437b-a645-a5b426fafa57",
   "metadata": {},
   "outputs": [
    {
     "name": "stdin",
     "output_type": "stream",
     "text": [
      " 6\n",
      " 6\n"
     ]
    },
    {
     "name": "stdout",
     "output_type": "stream",
     "text": [
      "12\n"
     ]
    }
   ],
   "source": [
    "#explicit\n",
    "#complex number cannot converted into integer other datatype can be converted into integer\n",
    "num1=int(input())\n",
    "num2=int(input())\n",
    "add=num1+num2\n",
    "print(add)"
   ]
  },
  {
   "cell_type": "code",
   "execution_count": 2,
   "id": "0f4043b0-4ae0-4ef9-ba89-b89000dbf953",
   "metadata": {},
   "outputs": [
    {
     "data": {
      "text/plain": [
       "True"
      ]
     },
     "execution_count": 2,
     "metadata": {},
     "output_type": "execute_result"
    }
   ],
   "source": [
    "bool(True)"
   ]
  },
  {
   "cell_type": "code",
   "execution_count": 3,
   "id": "97b23a78-ebc2-41eb-840a-e9ecbfc28dd9",
   "metadata": {},
   "outputs": [
    {
     "data": {
      "text/plain": [
       "False"
      ]
     },
     "execution_count": 3,
     "metadata": {},
     "output_type": "execute_result"
    }
   ],
   "source": [
    "bool(0)\n",
    "#only for 0 bool value is false"
   ]
  },
  {
   "cell_type": "code",
   "execution_count": 5,
   "id": "f6184c32-08ea-4f6f-a6dd-c695ea145e3b",
   "metadata": {},
   "outputs": [
    {
     "data": {
      "text/plain": [
       "True"
      ]
     },
     "execution_count": 5,
     "metadata": {},
     "output_type": "execute_result"
    }
   ],
   "source": [
    "bool(89)"
   ]
  },
  {
   "cell_type": "code",
   "execution_count": 6,
   "id": "f63f4222-1256-4036-bc4d-59f7331ad500",
   "metadata": {},
   "outputs": [
    {
     "data": {
      "text/plain": [
       "True"
      ]
     },
     "execution_count": 6,
     "metadata": {},
     "output_type": "execute_result"
    }
   ],
   "source": [
    "bool(\"string\")"
   ]
  },
  {
   "cell_type": "code",
   "execution_count": 7,
   "id": "4996e601-6545-490c-a4c7-d9549d41550e",
   "metadata": {},
   "outputs": [
    {
     "data": {
      "text/plain": [
       "False"
      ]
     },
     "execution_count": 7,
     "metadata": {},
     "output_type": "execute_result"
    }
   ],
   "source": [
    "bool()"
   ]
  },
  {
   "cell_type": "code",
   "execution_count": 14,
   "id": "2f2333a1-c985-41f3-bf64-0c58990487e5",
   "metadata": {},
   "outputs": [
    {
     "name": "stdout",
     "output_type": "stream",
     "text": [
      "2.0\n",
      "0\n",
      "2\n",
      "100000\n"
     ]
    }
   ],
   "source": [
    "#operators\n",
    "#arimatical \n",
    "#print=(+,-,*,/,%,//,**)\n",
    "print(10/5)\n",
    "print(10%5)\n",
    "print(10//5)\n",
    "print(10**5)"
   ]
  },
  {
   "cell_type": "code",
   "execution_count": 24,
   "id": "ea777e5d-076c-45d7-b2b4-92e307b0bf9e",
   "metadata": {},
   "outputs": [
    {
     "name": "stdin",
     "output_type": "stream",
     "text": [
      " 789\n"
     ]
    },
    {
     "name": "stdout",
     "output_type": "stream",
     "text": [
      "\n"
     ]
    }
   ],
   "source": [
    "num1=input()\n",
    "\n",
    "print()"
   ]
  },
  {
   "cell_type": "code",
   "execution_count": 26,
   "id": "84d2acfc-d1ea-4b88-8652-b362296ffb68",
   "metadata": {},
   "outputs": [
    {
     "name": "stdin",
     "output_type": "stream",
     "text": [
      "Enter a 3-digit number:  789\n"
     ]
    },
    {
     "name": "stdout",
     "output_type": "stream",
     "text": [
      "Sum of digits: 24\n"
     ]
    }
   ],
   "source": [
    "\n",
    "number = input(\"Enter a 3-digit number: \")\n",
    "digit_sum = int(number[0]) + int(number[1]) + int(number[2])\n",
    "print(\"Sum of digits:\", digit_sum)\n"
   ]
  },
  {
   "cell_type": "code",
   "execution_count": 27,
   "id": "7476fd10-0277-403f-9968-6b7ecdfee4bd",
   "metadata": {},
   "outputs": [
    {
     "name": "stdout",
     "output_type": "stream",
     "text": [
      "False\n",
      "True\n"
     ]
    }
   ],
   "source": [
    "#relational\n",
    "\n",
    "print(2>4)\n",
    "print(2<4)"
   ]
  },
  {
   "cell_type": "code",
   "execution_count": 28,
   "id": "ddb846b4-fa18-48cf-82b4-c42156029e03",
   "metadata": {},
   "outputs": [
    {
     "name": "stdout",
     "output_type": "stream",
     "text": [
      "True\n"
     ]
    }
   ],
   "source": [
    "#for checking content\n",
    "print(4==4)"
   ]
  },
  {
   "cell_type": "code",
   "execution_count": 29,
   "id": "dd0c300f-bf22-4b46-980e-36e940928c16",
   "metadata": {},
   "outputs": [
    {
     "data": {
      "text/plain": [
       "True"
      ]
     },
     "execution_count": 29,
     "metadata": {},
     "output_type": "execute_result"
    }
   ],
   "source": [
    "a=5\n",
    "b=5\n",
    "a==b\n"
   ]
  },
  {
   "cell_type": "code",
   "execution_count": 30,
   "id": "c82815b3-1160-45f1-bc72-79d23dcd2d2b",
   "metadata": {},
   "outputs": [
    {
     "data": {
      "text/plain": [
       "True"
      ]
     },
     "execution_count": 30,
     "metadata": {},
     "output_type": "execute_result"
    }
   ],
   "source": [
    "#is operator is used to check memory address\n",
    "a is b"
   ]
  },
  {
   "cell_type": "code",
   "execution_count": 31,
   "id": "70783f0f-813c-4b62-8eee-8882857a34c3",
   "metadata": {},
   "outputs": [
    {
     "name": "stdout",
     "output_type": "stream",
     "text": [
      "1\n"
     ]
    }
   ],
   "source": [
    "#Logical operator\n",
    "print(1 and 1)"
   ]
  },
  {
   "cell_type": "code",
   "execution_count": 32,
   "id": "95998bf3-1016-4966-b25d-829f2b2eb711",
   "metadata": {},
   "outputs": [
    {
     "name": "stdout",
     "output_type": "stream",
     "text": [
      "0\n"
     ]
    }
   ],
   "source": [
    "print(1 and 0)"
   ]
  },
  {
   "cell_type": "code",
   "execution_count": 34,
   "id": "2cf2959b-3984-4723-acdf-1c618231cb51",
   "metadata": {},
   "outputs": [
    {
     "name": "stdout",
     "output_type": "stream",
     "text": [
      "1\n"
     ]
    }
   ],
   "source": [
    "print(0 or 1)"
   ]
  },
  {
   "cell_type": "code",
   "execution_count": 35,
   "id": "cd66c6c6-8bf1-4efd-876d-2724f0549648",
   "metadata": {},
   "outputs": [
    {
     "name": "stdout",
     "output_type": "stream",
     "text": [
      "1\n"
     ]
    }
   ],
   "source": [
    "print (1 or 1)"
   ]
  },
  {
   "cell_type": "code",
   "execution_count": 39,
   "id": "498dbca7-3f50-4339-a8c3-19e57e24dc04",
   "metadata": {},
   "outputs": [
    {
     "name": "stdout",
     "output_type": "stream",
     "text": [
      "90\n",
      "2\n"
     ]
    }
   ],
   "source": [
    "#always return 2nd value because it always check 1st condition and goes to 2nd and return 2nd condition\n",
    "print(3 and 90)\n",
    "print(78 and 2)"
   ]
  },
  {
   "cell_type": "code",
   "execution_count": 40,
   "id": "49dc0b23-d7af-40aa-bdcd-5eff056953bc",
   "metadata": {},
   "outputs": [
    {
     "name": "stdout",
     "output_type": "stream",
     "text": [
      "False\n"
     ]
    }
   ],
   "source": [
    "print(not 1)"
   ]
  },
  {
   "cell_type": "code",
   "execution_count": 41,
   "id": "8db896ee-ada3-4f8e-9cdf-13936ff14bbb",
   "metadata": {},
   "outputs": [
    {
     "name": "stdout",
     "output_type": "stream",
     "text": [
      "False\n"
     ]
    }
   ],
   "source": [
    "print(not 6)"
   ]
  },
  {
   "cell_type": "code",
   "execution_count": 42,
   "id": "79405362-5f8c-4d3c-bd6f-04c508a28d97",
   "metadata": {},
   "outputs": [
    {
     "name": "stdout",
     "output_type": "stream",
     "text": [
      "3\n"
     ]
    }
   ],
   "source": [
    "#assignment operator\n",
    "a = 2\n",
    "a += 1 #shorthand method\n",
    "print(a)"
   ]
  },
  {
   "cell_type": "code",
   "execution_count": 44,
   "id": "b5770a14-07f0-434f-8f0f-c18171048453",
   "metadata": {},
   "outputs": [
    {
     "name": "stdout",
     "output_type": "stream",
     "text": [
      "True\n",
      "True\n"
     ]
    }
   ],
   "source": [
    "#membership\n",
    "#in/not in\n",
    "print(\"t\"in\"String\")\n",
    "print(\"T\" not in \"String\")"
   ]
  },
  {
   "cell_type": "raw",
   "id": "e5aa940a-aa1c-47e8-ada3-dc4915e5b50a",
   "metadata": {},
   "source": []
  },
  {
   "cell_type": "code",
   "execution_count": 45,
   "id": "ec1780f8-d323-4143-bbbe-2c06cc741d82",
   "metadata": {},
   "outputs": [
    {
     "name": "stdout",
     "output_type": "stream",
     "text": [
      "False\n"
     ]
    }
   ],
   "source": [
    "print(1 not in[1,2,3,4])"
   ]
  },
  {
   "cell_type": "code",
   "execution_count": 11,
   "id": "aee61c7f-bb09-4c1e-bd6d-92d6196706ce",
   "metadata": {},
   "outputs": [
    {
     "name": "stdin",
     "output_type": "stream",
     "text": [
      "Enter  your age.......!! 89\n"
     ]
    },
    {
     "name": "stdout",
     "output_type": "stream",
     "text": [
      "you are adult\n"
     ]
    }
   ],
   "source": [
    "#if/if-else/if-elif else statement\n",
    "#eval if don't know which  number user should enter\n",
    "age=int(input(\"Enter  your age.......!!\"))\n",
    "\n",
    "if age>=18:\n",
    "  print(\"you are adult\")\n",
    "else:\n",
    "    print(\"Age is not vaild\")"
   ]
  },
  {
   "cell_type": "code",
   "execution_count": 13,
   "id": "2c5143c1-c2b3-4749-8aff-29f07b9fd1f5",
   "metadata": {},
   "outputs": [
    {
     "name": "stdin",
     "output_type": "stream",
     "text": [
      "Enter marks of student 56\n"
     ]
    },
    {
     "name": "stdout",
     "output_type": "stream",
     "text": [
      "Pass\n"
     ]
    }
   ],
   "source": [
    "marks=int(input(\"Enter marks of student\"))\n",
    "if marks >= 90:\n",
    "    print(\"Grade A\")\n",
    "elif marks >=80:\n",
    "    print(\"grade B\")\n",
    "elif marks >= 35:\n",
    "    print (\"Pass\")\n",
    "else:\n",
    "    print(\"Fail\")"
   ]
  },
  {
   "cell_type": "code",
   "execution_count": 17,
   "id": "d3bbb706-bc93-46ca-9dbf-6e636cf2e4bc",
   "metadata": {},
   "outputs": [
    {
     "name": "stdin",
     "output_type": "stream",
     "text": [
      "Enter your number.. -90\n"
     ]
    },
    {
     "name": "stdout",
     "output_type": "stream",
     "text": [
      "not +ve number\n"
     ]
    }
   ],
   "source": [
    "number= int(input(\"Enter your number..\"))\n",
    "if number >0:\n",
    "    if number%2 ==0:\n",
    "        print(\"+ve even number\")\n",
    "    else:\n",
    "        print(\"+ve odd number\")\n",
    "else:\n",
    "        print(\"not +ve number\")"
   ]
  },
  {
   "cell_type": "code",
   "execution_count": 24,
   "id": "f4adc12f-f858-448d-8e0c-a8c56881adf7",
   "metadata": {},
   "outputs": [
    {
     "ename": "IndentationError",
     "evalue": "expected an indented block after 'if' statement on line 9 (1885390488.py, line 10)",
     "output_type": "error",
     "traceback": [
      "\u001b[1;36m  Cell \u001b[1;32mIn[24], line 10\u001b[1;36m\u001b[0m\n\u001b[1;33m    print(\"WELCOME\")\u001b[0m\n\u001b[1;37m    ^\u001b[0m\n\u001b[1;31mIndentationError\u001b[0m\u001b[1;31m:\u001b[0m expected an indented block after 'if' statement on line 9\n"
     ]
    }
   ],
   "source": [
    "#nested if else\n",
    "email=input(\"Enter your Email\")\n",
    "password=input(\"Enter your password\")\n",
    "if email == \"krish@gmail.com\" and password == \"1234\":\n",
    "  print(\"Welcome\")\n",
    "elif email==\"krish@gmail.com\" and password!=\"1234\":\n",
    " print(\"Incorrect password\")\n",
    "password=input(\"Enter yoour password\")\n",
    "if email==\"krish@gmail.com\":\n",
    "print(\"WELCOME\")\n",
    "else:\n",
    "print(\"Try Again\")\n",
    "else:\n",
    "print(\"Invalid data\")\n",
    "if password=\"1234\":\n",
    "print(\"WELCOME\")\n",
    "else:\n",
    "print(\"Try Again\")\n",
    "else:\n",
    "print(\"Invalid data\")"
   ]
  },
  {
   "cell_type": "code",
   "execution_count": 31,
   "id": "8a8e11ca-de70-4571-9bd7-5972ebb580ff",
   "metadata": {},
   "outputs": [
    {
     "name": "stdin",
     "output_type": "stream",
     "text": [
      "Enter 1st digit 67\n",
      "Enter 2nd digit 90\n",
      "Enter 3rd digit 5\n"
     ]
    },
    {
     "name": "stdout",
     "output_type": "stream",
     "text": [
      "B is greater number\n"
     ]
    }
   ],
   "source": [
    "a=int(input(\"Enter 1st digit\"))\n",
    "b=int(input(\"Enter 2nd digit\"))\n",
    "c=int(input(\"Enter 3rd digit\"))\n",
    "if a > b and a > c:\n",
    "      print(\"A is greater number\")\n",
    "elif  b>c:\n",
    "    print(\"B is greater number\")\n",
    "else:\n",
    "    print(\"c is greater number\")"
   ]
  },
  {
   "cell_type": "code",
   "execution_count": 32,
   "id": "83c9642f-9230-4c25-b156-6bb416060dd8",
   "metadata": {},
   "outputs": [
    {
     "data": {
      "text/plain": [
       "0.8939966636005579"
      ]
     },
     "execution_count": 32,
     "metadata": {},
     "output_type": "execute_result"
    }
   ],
   "source": [
    "import math\n",
    "math.sin(90)"
   ]
  },
  {
   "cell_type": "code",
   "execution_count": 33,
   "id": "8ff37764-5aaf-4b93-91d5-7cd0c310c526",
   "metadata": {},
   "outputs": [
    {
     "data": {
      "text/plain": [
       "-1.995200412208242"
      ]
     },
     "execution_count": 33,
     "metadata": {},
     "output_type": "execute_result"
    }
   ],
   "source": [
    "math.tan(90)"
   ]
  },
  {
   "cell_type": "code",
   "execution_count": null,
   "id": "b84b3b7f-df15-4cd2-a672-829ab033942f",
   "metadata": {},
   "outputs": [],
   "source": []
  },
  {
   "cell_type": "code",
   "execution_count": 34,
   "id": "a07579f3-5791-4e1b-9b4c-c007e4018276",
   "metadata": {},
   "outputs": [
    {
     "name": "stdout",
     "output_type": "stream",
     "text": [
      "2025-07-01 15:12:41.440284\n"
     ]
    }
   ],
   "source": [
    "#datetime\n",
    "import datetime\n",
    "print(datetime.datetime.now())"
   ]
  },
  {
   "cell_type": "code",
   "execution_count": null,
   "id": "bffd678a-e8a4-45f0-929a-10566039b172",
   "metadata": {},
   "outputs": [],
   "source": [
    "# List of given strings\n",
    "words = [\"Data\", \"Science\", \"Mentorship\", \"Program\", \"started\", \"By\", \"CampusX\"]\n",
    "\n",
    "# Join the words using hyphen (-)\n",
    "output = \"-\".join(words)\n",
    "\n",
    "# Print the result\n",
    "print(output)\n",
    "\n"
   ]
  },
  {
   "cell_type": "code",
   "execution_count": null,
   "id": "abdece39-8d42-4210-8bc9-b0f3c7407359",
   "metadata": {},
   "outputs": [],
   "source": [
    "help('modules')"
   ]
  },
  {
   "cell_type": "code",
   "execution_count": null,
   "id": "ab54f58d-9215-46c2-8a00-50d5d0f5a950",
   "metadata": {},
   "outputs": [],
   "source": []
  }
 ],
 "metadata": {
  "kernelspec": {
   "display_name": "Python 3 (ipykernel)",
   "language": "python",
   "name": "python3"
  },
  "language_info": {
   "codemirror_mode": {
    "name": "ipython",
    "version": 3
   },
   "file_extension": ".py",
   "mimetype": "text/x-python",
   "name": "python",
   "nbconvert_exporter": "python",
   "pygments_lexer": "ipython3",
   "version": "3.12.7"
  }
 },
 "nbformat": 4,
 "nbformat_minor": 5
}
